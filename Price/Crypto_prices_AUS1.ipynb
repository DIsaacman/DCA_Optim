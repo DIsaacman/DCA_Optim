{
 "cells": [
  {
   "cell_type": "markdown",
   "id": "743b9fb5-6372-47e8-947c-a308f5e24f95",
   "metadata": {},
   "source": [
    "### Import Libraries"
   ]
  },
  {
   "cell_type": "code",
   "execution_count": 1,
   "id": "dd9133ae-8f73-4ab9-8f22-467b4988144e",
   "metadata": {},
   "outputs": [],
   "source": [
    "import requests\n",
    "import json\n",
    "import pandas as pd\n",
    "import yahoo_fin.stock_info as si\n",
    "from datetime import datetime, timedelta"
   ]
  },
  {
   "cell_type": "markdown",
   "id": "1a1bdd7a",
   "metadata": {},
   "source": [
    "### Get AUD to USD Conversion"
   ]
  },
  {
   "cell_type": "code",
   "execution_count": 2,
   "id": "aa535254",
   "metadata": {},
   "outputs": [
    {
     "name": "stdout",
     "output_type": "stream",
     "text": [
      "Yahoo Finance USD to AUD Conversione ($ 1.447) Price last updated 2022-07-20 13:33:13\n"
     ]
    }
   ],
   "source": [
    "# Convert AUD to USD\n",
    "\n",
    "def convert_currency_yahoofin(src, dst):\n",
    "    # construct the currency pair symbol\n",
    "    symbol = f\"{src}{dst}=X\"\n",
    "    # extract minute data of the recent 2 days\n",
    "    latest_data = si.get_data(symbol, interval=\"1m\", start_date=datetime.now() - timedelta(days=2))\n",
    "    # get the latest datetime\n",
    "    last_updated_datetime = latest_data.index[-1].to_pydatetime()\n",
    "    # get the latest price\n",
    "    latest_price = latest_data.iloc[-1].close\n",
    "    # return the latest datetime with the converted amount\n",
    "    print(f\"Yahoo Finance USD to AUD Conversione ($ {latest_price:.3f}) Price last updated {last_updated_datetime}\")\n",
    "    return  latest_price\n",
    "\n",
    "### Get AUD -USD Conversion Rate\n",
    "aud_convert = convert_currency_yahoofin(\"USD\",\"AUD\")"
   ]
  },
  {
   "cell_type": "markdown",
   "id": "1bc7729b-a30c-424f-9cce-1b436ed00a6e",
   "metadata": {
    "jp-MarkdownHeadingCollapsed": true,
    "tags": []
   },
   "source": [
    "### Initialise Functions"
   ]
  },
  {
   "cell_type": "code",
   "execution_count": 3,
   "id": "a960410d-f88a-4c0e-a64d-7ce20f8e25cc",
   "metadata": {},
   "outputs": [],
   "source": [
    "#function to extract data from btcmarkets\n",
    "def crypto_price_btcmarkets(crypto_ticker,btcmarkets_api):\n",
    "\n",
    "    # Gather prices\n",
    "    crypto_bid = btcmarkets_api[\"bestBid\"]\n",
    "    crypto_ask = btcmarkets_api[\"bestAsk\"]\n",
    "    crypto_last = btcmarkets_api[\"lastPrice\"]\n",
    "    \n",
    "    # print(f\"{crypto_ticker} Buy: ${float(crypto_bid):,}\")\n",
    "    # print(f\"{crypto_ticker} Sell: ${float(crypto_ask):,}\")\n",
    "    # print(f\"{crypto_ticker} Last Transaction: ${float(crypto_last):,}\")\n",
    "    \n",
    "    #return as dictionary\n",
    "    return{\"btcmarkets bid\":crypto_bid,\"btcmarkets ask\":crypto_ask,\"btcmarkets sell\":crypto_last}\n",
    "\n",
    "#function to extract data from btcmarkets\n",
    "def crypto_price_coinspot(crypto_ticker):\n",
    "    \n",
    "    # Gather prices\n",
    "    crypto_bid = coinspot_data[\"prices\"][crypto_ticker][\"bid\"]\n",
    "    crypto_ask = coinspot_data[\"prices\"][crypto_ticker][\"ask\"]\n",
    "    crypto_last = coinspot_data[\"prices\"][crypto_ticker][\"last\"]\n",
    "    \n",
    "    # print(f\"{crypto_ticker} Buy: ${float(crypto_bid):,}\")\n",
    "    # print(f\"{crypto_ticker} Sell: ${float(crypto_ask):,}\")\n",
    "    # print(f\"{crypto_ticker} Last Transaction: ${float(crypto_last):,}\")\n",
    "\n",
    "        #return as dictionary\n",
    "    return{\"coinspot bid\":crypto_bid,\"coinspot ask\":crypto_ask,\"coinspot sell\":crypto_last}\n",
    "\n",
    "### Execute GET request with URL\n",
    "\n",
    "#function to extract data from coinspot\n",
    "def get_api(coin_url):\n",
    "\n",
    "    # Execute get request\n",
    "    requests.get(coin_url)\n",
    "\n",
    "    ### Store response as variable\n",
    "\n",
    "    # Execute GET request and store response\n",
    "    coin_response_data = requests.get(coin_url)\n",
    "\n",
    "    ### Retrieve API output using `content` attribute\n",
    "\n",
    "    # Get content\n",
    "    coin_response_content = coin_response_data.content\n",
    "\n",
    "    # print(response_content)\n",
    "\n",
    "    # Formatting as json\n",
    "    coin_data = coin_response_data.json()\n",
    "    \n",
    "    #Print data as formatted json with indents\n",
    "    # print(json.dumps(coinspot_data, indent=4))\n",
    "    \n",
    "    return coin_data\n",
    "\n",
    "#function to extract data from alternative\n",
    "def crypto_price_alternative(id_,url_):\n",
    "    \n",
    "    # Execute get request\n",
    "    requests.get(url_)\n",
    "\n",
    "    # Execute GET request and store response\n",
    "    response_data = requests.get(url_)\n",
    "\n",
    "    # Get content\n",
    "    response_content = response_data.content\n",
    "\n",
    "    # Formatting as json\n",
    "    data = response_data.json()\n",
    "\n",
    "    crypto_price = data[\"data\"][id_][\"quotes\"][\"USD\"][\"price\"]\n",
    "    crypto_vol = data[\"data\"][id_][\"quotes\"][\"USD\"][\"volume_24h\"]\n",
    "   \n",
    "    crypto_ask = crypto_price * aud_convert\n",
    "    aud_vol = crypto_vol * aud_convert\n",
    "\n",
    "    # print(f\"{id_} is ${price:,.2f}\")\n",
    "\n",
    "    return {\"alternative ask\":crypto_ask,\"alternative volume\":aud_vol}"
   ]
  },
  {
   "cell_type": "markdown",
   "id": "9a37f2bb-da9a-4d0e-8655-1836479c0dd4",
   "metadata": {
    "tags": []
   },
   "source": [
    "### Initialise API calls"
   ]
  },
  {
   "cell_type": "code",
   "execution_count": 4,
   "id": "8e59fe0d-bf61-46f2-9afe-de9dd1ce7af6",
   "metadata": {
    "tags": []
   },
   "outputs": [],
   "source": [
    "# Create variable to hold request url\n",
    "coinspot_url = \"https://www.coinspot.com.au/pubapi/latest\"\n",
    "\n",
    "btcmarkets_url_btc =\"https://api.btcmarkets.net/v3/markets/BTC-AUD/ticker\"\n",
    "btcmarkets_url_eth =\"https://api.btcmarkets.net/v3/markets/ETH-AUD/ticker\"\n",
    "\n",
    "alternative_btc = \"https://api.alternative.me/v2/ticker/Bitcoin/\"\n",
    "alternative_eth = \"https://api.alternative.me/v2/ticker/Ethereum/\""
   ]
  },
  {
   "cell_type": "markdown",
   "id": "4d2da548-4ec2-4aec-b7e8-c35a4f6ee245",
   "metadata": {
    "tags": []
   },
   "source": [
    "### GET API Data"
   ]
  },
  {
   "cell_type": "code",
   "execution_count": 5,
   "id": "a762fdf9-7acb-4f0e-9838-5db6108e5cf5",
   "metadata": {},
   "outputs": [],
   "source": [
    "# Return the json file using get_api function\n",
    "coinspot_data = get_api(coinspot_url)\n",
    "\n",
    "btcmarkets_data_btc = get_api(btcmarkets_url_btc)\n",
    "btcmarkets_data_eth = get_api(btcmarkets_url_eth)\n",
    "\n",
    "alternative_data_btc = get_api(alternative_btc)\n",
    "alternative_data_eth  = get_api(alternative_eth)\n"
   ]
  },
  {
   "cell_type": "markdown",
   "id": "81d71155-8828-4bc0-a622-7b4bf56b8b19",
   "metadata": {
    "tags": []
   },
   "source": [
    "### Convert to Dictionaries"
   ]
  },
  {
   "cell_type": "code",
   "execution_count": 6,
   "id": "9ff50d12-02e6-4903-9aa0-1b14836c2575",
   "metadata": {},
   "outputs": [],
   "source": [
    "# Run Coinspot Functions\n",
    "btc_coinspot = crypto_price_coinspot(crypto_ticker = \"btc\")\n",
    "eth_coinspot = crypto_price_coinspot(crypto_ticker = \"eth\")\n",
    "\n",
    "#Run btcmarkets functions\n",
    "btc_btcmarkets = crypto_price_btcmarkets(crypto_ticker = \"btc\",btcmarkets_api = btcmarkets_data_btc)\n",
    "eth_btcmarkets = crypto_price_btcmarkets(crypto_ticker = \"eth\",btcmarkets_api = btcmarkets_data_eth)\n",
    "\n",
    "#Run btcmarkets functions\n",
    "btc_alternative = crypto_price_alternative(id_ = \"1\",url_ = alternative_btc)\n",
    "eth_alternative  = crypto_price_alternative(id_ = \"1027\",url_  = alternative_eth )\n",
    "\n",
    "#Join Dictionaries\n",
    "btcmarkets_prices = {\"btc\": btc_btcmarkets,\"eth\" :eth_btcmarkets}\n",
    "coinspot_prices = {\"btc\": btc_coinspot,\"eth\" :eth_coinspot}\n",
    "alternative_prices = {\"btc\": btc_alternative,\"vol\" :eth_alternative}"
   ]
  },
  {
   "cell_type": "markdown",
   "id": "0b228818-4d4f-4076-ae95-dd1234bb499b",
   "metadata": {
    "tags": []
   },
   "source": [
    "### Create DataFrame"
   ]
  },
  {
   "cell_type": "code",
   "execution_count": 7,
   "id": "88b212fd-cc89-4dfc-bc95-49e81b73cc18",
   "metadata": {},
   "outputs": [],
   "source": [
    "# Convert Dictionaries to Dataframe\n",
    "coinspot_df = pd.DataFrame.from_dict(coinspot_prices,orient = \"index\")\n",
    "btcmarkets_df = pd.DataFrame.from_dict(btcmarkets_prices,orient = \"index\")\n",
    "alternative_df = pd.DataFrame.from_dict(alternative_prices,orient = \"index\")\n"
   ]
  },
  {
   "cell_type": "code",
   "execution_count": null,
   "id": "4e8ef0a4",
   "metadata": {},
   "outputs": [],
   "source": []
  },
  {
   "cell_type": "code",
   "execution_count": 11,
   "id": "e997adca",
   "metadata": {},
   "outputs": [
    {
     "data": {
      "text/html": [
       "<div>\n",
       "<style scoped>\n",
       "    .dataframe tbody tr th:only-of-type {\n",
       "        vertical-align: middle;\n",
       "    }\n",
       "\n",
       "    .dataframe tbody tr th {\n",
       "        vertical-align: top;\n",
       "    }\n",
       "\n",
       "    .dataframe thead th {\n",
       "        text-align: right;\n",
       "    }\n",
       "</style>\n",
       "<table border=\"1\" class=\"dataframe\">\n",
       "  <thead>\n",
       "    <tr style=\"text-align: right;\">\n",
       "      <th></th>\n",
       "      <th>coinspot bid</th>\n",
       "      <th>coinspot ask</th>\n",
       "      <th>coinspot sell</th>\n",
       "      <th>btcmarkets bid</th>\n",
       "      <th>btcmarkets ask</th>\n",
       "      <th>btcmarkets sell</th>\n",
       "      <th>alternative ask</th>\n",
       "      <th>alternative volume</th>\n",
       "    </tr>\n",
       "  </thead>\n",
       "  <tbody>\n",
       "    <tr>\n",
       "      <th>btc</th>\n",
       "      <td>34314.43000009</td>\n",
       "      <td>34700.37999982</td>\n",
       "      <td>34672.38</td>\n",
       "      <td>34490.28</td>\n",
       "      <td>34523.17</td>\n",
       "      <td>34497.14</td>\n",
       "      <td>34577.655619</td>\n",
       "      <td>7.144413e+10</td>\n",
       "    </tr>\n",
       "    <tr>\n",
       "      <th>eth</th>\n",
       "      <td>2309.79778022</td>\n",
       "      <td>2328.29670678</td>\n",
       "      <td>2337.7</td>\n",
       "      <td>2318.11</td>\n",
       "      <td>2321.92</td>\n",
       "      <td>2312.16</td>\n",
       "      <td>NaN</td>\n",
       "      <td>NaN</td>\n",
       "    </tr>\n",
       "    <tr>\n",
       "      <th>vol</th>\n",
       "      <td>NaN</td>\n",
       "      <td>NaN</td>\n",
       "      <td>NaN</td>\n",
       "      <td>NaN</td>\n",
       "      <td>NaN</td>\n",
       "      <td>NaN</td>\n",
       "      <td>2327.554309</td>\n",
       "      <td>3.440456e+10</td>\n",
       "    </tr>\n",
       "  </tbody>\n",
       "</table>\n",
       "</div>"
      ],
      "text/plain": [
       "       coinspot bid    coinspot ask coinspot sell btcmarkets bid  \\\n",
       "btc  34314.43000009  34700.37999982      34672.38       34490.28   \n",
       "eth   2309.79778022   2328.29670678        2337.7        2318.11   \n",
       "vol             NaN             NaN           NaN            NaN   \n",
       "\n",
       "    btcmarkets ask btcmarkets sell  alternative ask  alternative volume  \n",
       "btc       34523.17        34497.14     34577.655619        7.144413e+10  \n",
       "eth        2321.92         2312.16              NaN                 NaN  \n",
       "vol            NaN             NaN      2327.554309        3.440456e+10  "
      ]
     },
     "execution_count": 11,
     "metadata": {},
     "output_type": "execute_result"
    }
   ],
   "source": [
    "\n",
    "# Join dataframes\n",
    "all_prices = pd.concat([coinspot_df,btcmarkets_df,alternative_df], axis=\"columns\", join=\"outer\")\n",
    "\n",
    "#Show Data\n",
    "all_prices.head()"
   ]
  },
  {
   "cell_type": "markdown",
   "id": "0ce95b05-6baf-41b4-82d4-a761152e2e6d",
   "metadata": {},
   "source": [
    "### Convert to float and perform basic calculations"
   ]
  },
  {
   "cell_type": "code",
   "execution_count": 12,
   "id": "d82968c0-8ed7-4e70-bc0d-eca81941b2cd",
   "metadata": {
    "tags": []
   },
   "outputs": [
    {
     "data": {
      "text/html": [
       "<div>\n",
       "<style scoped>\n",
       "    .dataframe tbody tr th:only-of-type {\n",
       "        vertical-align: middle;\n",
       "    }\n",
       "\n",
       "    .dataframe tbody tr th {\n",
       "        vertical-align: top;\n",
       "    }\n",
       "\n",
       "    .dataframe thead th {\n",
       "        text-align: right;\n",
       "    }\n",
       "</style>\n",
       "<table border=\"1\" class=\"dataframe\">\n",
       "  <thead>\n",
       "    <tr style=\"text-align: right;\">\n",
       "      <th></th>\n",
       "      <th>coinspot bid</th>\n",
       "      <th>coinspot ask</th>\n",
       "      <th>coinspot sell</th>\n",
       "      <th>btcmarkets bid</th>\n",
       "      <th>btcmarkets ask</th>\n",
       "      <th>btcmarkets sell</th>\n",
       "      <th>alternative ask</th>\n",
       "      <th>alternative volume</th>\n",
       "      <th>bid_diff</th>\n",
       "      <th>ask_diff</th>\n",
       "      <th>sell_diff</th>\n",
       "    </tr>\n",
       "  </thead>\n",
       "  <tbody>\n",
       "    <tr>\n",
       "      <th>btc</th>\n",
       "      <td>34314.43000</td>\n",
       "      <td>34700.380000</td>\n",
       "      <td>34672.38</td>\n",
       "      <td>34490.28</td>\n",
       "      <td>34523.17</td>\n",
       "      <td>34497.14</td>\n",
       "      <td>34577.655619</td>\n",
       "      <td>7.144413e+10</td>\n",
       "      <td>-175.85000</td>\n",
       "      <td>177.210000</td>\n",
       "      <td>175.24</td>\n",
       "    </tr>\n",
       "    <tr>\n",
       "      <th>eth</th>\n",
       "      <td>2309.79778</td>\n",
       "      <td>2328.296707</td>\n",
       "      <td>2337.70</td>\n",
       "      <td>2318.11</td>\n",
       "      <td>2321.92</td>\n",
       "      <td>2312.16</td>\n",
       "      <td>NaN</td>\n",
       "      <td>NaN</td>\n",
       "      <td>-8.31222</td>\n",
       "      <td>6.376707</td>\n",
       "      <td>25.54</td>\n",
       "    </tr>\n",
       "    <tr>\n",
       "      <th>vol</th>\n",
       "      <td>NaN</td>\n",
       "      <td>NaN</td>\n",
       "      <td>NaN</td>\n",
       "      <td>NaN</td>\n",
       "      <td>NaN</td>\n",
       "      <td>NaN</td>\n",
       "      <td>2327.554309</td>\n",
       "      <td>3.440456e+10</td>\n",
       "      <td>NaN</td>\n",
       "      <td>NaN</td>\n",
       "      <td>NaN</td>\n",
       "    </tr>\n",
       "  </tbody>\n",
       "</table>\n",
       "</div>"
      ],
      "text/plain": [
       "     coinspot bid  coinspot ask  coinspot sell  btcmarkets bid  \\\n",
       "btc   34314.43000  34700.380000       34672.38        34490.28   \n",
       "eth    2309.79778   2328.296707        2337.70         2318.11   \n",
       "vol           NaN           NaN            NaN             NaN   \n",
       "\n",
       "     btcmarkets ask  btcmarkets sell  alternative ask  alternative volume  \\\n",
       "btc        34523.17         34497.14     34577.655619        7.144413e+10   \n",
       "eth         2321.92          2312.16              NaN                 NaN   \n",
       "vol             NaN              NaN      2327.554309        3.440456e+10   \n",
       "\n",
       "      bid_diff    ask_diff  sell_diff  \n",
       "btc -175.85000  177.210000     175.24  \n",
       "eth   -8.31222    6.376707      25.54  \n",
       "vol        NaN         NaN        NaN  "
      ]
     },
     "execution_count": 12,
     "metadata": {},
     "output_type": "execute_result"
    }
   ],
   "source": [
    "#Show Data\n",
    "all_prices = all_prices.astype(float).copy()\n",
    "\n",
    "all_prices[\"bid_diff\"] = all_prices[\"coinspot bid\"] - all_prices[\"btcmarkets bid\"]\n",
    "all_prices[\"ask_diff\"] = all_prices[\"coinspot ask\"] - all_prices[\"btcmarkets ask\"]\n",
    "all_prices[\"sell_diff\"] = all_prices[\"coinspot sell\"] - all_prices[\"btcmarkets sell\"]\n",
    "\n",
    "all_prices.head()"
   ]
  },
  {
   "cell_type": "code",
   "execution_count": null,
   "id": "6060eb57",
   "metadata": {},
   "outputs": [],
   "source": []
  }
 ],
 "metadata": {
  "kernelspec": {
   "display_name": "Python 3.7.13 ('base')",
   "language": "python",
   "name": "python3"
  },
  "language_info": {
   "codemirror_mode": {
    "name": "ipython",
    "version": 3
   },
   "file_extension": ".py",
   "mimetype": "text/x-python",
   "name": "python",
   "nbconvert_exporter": "python",
   "pygments_lexer": "ipython3",
   "version": "3.7.13"
  },
  "vscode": {
   "interpreter": {
    "hash": "10a931d0df3498963b7175230c7ffd1d8de7f81d4c07de2b77341dc4b8531a17"
   }
  }
 },
 "nbformat": 4,
 "nbformat_minor": 5
}
