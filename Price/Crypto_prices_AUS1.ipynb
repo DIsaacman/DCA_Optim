{
 "cells": [
  {
   "cell_type": "markdown",
   "id": "743b9fb5-6372-47e8-947c-a308f5e24f95",
   "metadata": {},
   "source": [
    "### Import Libraries"
   ]
  },
  {
   "cell_type": "code",
   "execution_count": 1,
   "id": "dd9133ae-8f73-4ab9-8f22-467b4988144e",
   "metadata": {},
   "outputs": [],
   "source": [
    "import requests\n",
    "import json\n",
    "import pandas as pd\n",
    "import yahoo_fin.stock_info as si\n",
    "from datetime import datetime, timedelta"
   ]
  },
  {
   "cell_type": "markdown",
   "id": "1a1bdd7a",
   "metadata": {},
   "source": [
    "### Get AUD to USD Conversion"
   ]
  },
  {
   "cell_type": "code",
   "execution_count": 2,
   "id": "aa535254",
   "metadata": {},
   "outputs": [
    {
     "name": "stdout",
     "output_type": "stream",
     "text": [
      "Yahoo Finance USD to AUD Conversione ($ 1.447) Price last updated 2022-07-21 05:39:07\n"
     ]
    }
   ],
   "source": [
    "# Convert AUD to USD\n",
    "\n",
    "def convert_currency_yahoofin(src, dst):\n",
    "    # construct the currency pair symbol\n",
    "    symbol = f\"{src}{dst}=X\"\n",
    "    # extract minute data of the recent 2 days\n",
    "    latest_data = si.get_data(symbol, interval=\"1m\", start_date=datetime.now() - timedelta(days=2))\n",
    "    # get the latest datetime\n",
    "    last_updated_datetime = latest_data.index[-1].to_pydatetime()\n",
    "    # get the latest price\n",
    "    latest_price = latest_data.iloc[-1].close\n",
    "    # return the latest datetime with the converted amount\n",
    "    print(f\"Yahoo Finance USD to AUD Conversione ($ {latest_price:.3f}) Price last updated {last_updated_datetime}\")\n",
    "    return  latest_price\n",
    "\n",
    "### Get AUD -USD Conversion Rate\n",
    "aud_convert = convert_currency_yahoofin(\"USD\",\"AUD\")"
   ]
  },
  {
   "cell_type": "markdown",
   "id": "1bc7729b-a30c-424f-9cce-1b436ed00a6e",
   "metadata": {
    "jp-MarkdownHeadingCollapsed": true,
    "tags": []
   },
   "source": [
    "### Initialise Functions"
   ]
  },
  {
   "cell_type": "code",
   "execution_count": 17,
   "id": "a960410d-f88a-4c0e-a64d-7ce20f8e25cc",
   "metadata": {},
   "outputs": [],
   "source": [
    "#function to extract data from btcmarkets\n",
    "def crypto_price_btcmarkets(crypto_ticker,btcmarkets_api):\n",
    "\n",
    "    # Gather prices\n",
    "    crypto_bid = btcmarkets_api[\"bestBid\"]\n",
    "    crypto_ask = btcmarkets_api[\"bestAsk\"]\n",
    "    crypto_last = btcmarkets_api[\"lastPrice\"]\n",
    "    \n",
    "    # print(f\"{crypto_ticker} Buy: ${float(crypto_bid):,}\")\n",
    "    # print(f\"{crypto_ticker} Sell: ${float(crypto_ask):,}\")\n",
    "    # print(f\"{crypto_ticker} Last Transaction: ${float(crypto_last):,}\")\n",
    "    \n",
    "    #return as dictionary\n",
    "    return{\"btcmarkets bid\":crypto_bid,\"btcmarkets ask\":crypto_ask,\"btcmarkets sell\":crypto_last}\n",
    "\n",
    "#function to extract data from coinspot\n",
    "def crypto_price_coinspot(crypto_ticker):\n",
    "    \n",
    "    # Gather prices\n",
    "    crypto_bid = coinspot_data[\"prices\"][crypto_ticker][\"bid\"]\n",
    "    crypto_ask = coinspot_data[\"prices\"][crypto_ticker][\"ask\"]\n",
    "    crypto_last = coinspot_data[\"prices\"][crypto_ticker][\"last\"]\n",
    "    \n",
    "    # print(f\"{crypto_ticker} Buy: ${float(crypto_bid):,}\")\n",
    "    # print(f\"{crypto_ticker} Sell: ${float(crypto_ask):,}\")\n",
    "    # print(f\"{crypto_ticker} Last Transaction: ${float(crypto_last):,}\")\n",
    "\n",
    "        #return as dictionary\n",
    "    return{\"coinspot bid\":crypto_bid,\"coinspot ask\":crypto_ask,\"coinspot sell\":crypto_last}\n",
    "\n",
    "### Execute GET request with URL\n",
    "\n",
    "#function to extract data from coinspot\n",
    "def get_api(coin_url):\n",
    "\n",
    "    # Execute get request\n",
    "    requests.get(coin_url)\n",
    "\n",
    "    ### Store response as variable\n",
    "\n",
    "    # Execute GET request and store response\n",
    "    coin_response_data = requests.get(coin_url)\n",
    "\n",
    "    ### Retrieve API output using `content` attribute\n",
    "\n",
    "    # Get content\n",
    "    coin_response_content = coin_response_data.content\n",
    "\n",
    "    # print(response_content)\n",
    "\n",
    "    # Formatting as json\n",
    "    coin_data = coin_response_data.json()\n",
    "    \n",
    "    #Print data as formatted json with indents\n",
    "    # print(json.dumps(coinspot_data, indent=4))\n",
    "    \n",
    "    return coin_data\n",
    "\n",
    "#function to extract data from alternative\n",
    "def crypto_price_alternative(id_,url_):\n",
    "    \n",
    "    # Execute get request\n",
    "    requests.get(url_)\n",
    "\n",
    "    # Execute GET request and store response\n",
    "    response_data = requests.get(url_)\n",
    "\n",
    "    # Get content\n",
    "    response_content = response_data.content\n",
    "\n",
    "    # Formatting as json\n",
    "    data = response_data.json()\n",
    "\n",
    "    crypto_price = data[\"data\"][id_][\"quotes\"][\"USD\"][\"price\"]\n",
    "    crypto_vol = data[\"data\"][id_][\"quotes\"][\"USD\"][\"volume_24h\"]\n",
    "   \n",
    "    crypto_ask = crypto_price * aud_convert\n",
    "    aud_vol = crypto_vol * aud_convert\n",
    "\n",
    "    # print(f\"{id_} is ${price:,.2f}\")\n",
    "    print(f\"AUD volume is approximately ${aud_vol:,.2f}\")\n",
    "\n",
    "    return {\"alternative ask\":crypto_ask}\n",
    "\n",
    "    #function to extract data from independent\n",
    "def crypto_price_independent(url_):\n",
    "    \n",
    "    # Gather prices\n",
    "    crypto_bid = independent_data_btc[\"CurrentLowestOfferPrice\"]\n",
    "    crypto_ask = independent_data_btc[\"CurrentHighestBidPrice\"]\n",
    "    crypto_last = independent_data_btc[\"LastPrice\"]\n",
    "    \n",
    "    # print(f\"{crypto_ticker} Buy: ${float(crypto_bid):,}\")\n",
    "    # print(f\"{crypto_ticker} Sell: ${float(crypto_ask):,}\")\n",
    "    # print(f\"{crypto_ticker} Last Transaction: ${float(crypto_last):,}\")\n",
    "\n",
    "        #return as dictionary\n",
    "    return{\"independent bid\":crypto_bid,\"independent ask\":crypto_ask,\"independent sell\":crypto_last}"
   ]
  },
  {
   "cell_type": "markdown",
   "id": "9a37f2bb-da9a-4d0e-8655-1836479c0dd4",
   "metadata": {
    "tags": []
   },
   "source": [
    "### Initialise API calls"
   ]
  },
  {
   "cell_type": "code",
   "execution_count": 23,
   "id": "8e59fe0d-bf61-46f2-9afe-de9dd1ce7af6",
   "metadata": {
    "tags": []
   },
   "outputs": [],
   "source": [
    "# Create variable to hold request url\n",
    "coinspot_url = \"https://www.coinspot.com.au/pubapi/latest\"\n",
    "\n",
    "btcmarkets_url_btc =\"https://api.btcmarkets.net/v3/markets/BTC-AUD/ticker\"\n",
    "btcmarkets_url_eth =\"https://api.btcmarkets.net/v3/markets/ETH-AUD/ticker\"\n",
    "\n",
    "alternative_btc = \"https://api.alternative.me/v2/ticker/Bitcoin/\"\n",
    "alternative_eth = \"https://api.alternative.me/v2/ticker/Ethereum/\"\n",
    "\n",
    "independent_btc = \"https://api.independentreserve.com/Public/GetMarketSummary?primaryCurrencyCode=xbt&secondaryCurrencyCode=aud\"\n",
    "independent_eth = \"https://api.independentreserve.com/Public/GetMarketSummary?primaryCurrencyCode=eth&secondaryCurrencyCode=aud\""
   ]
  },
  {
   "cell_type": "markdown",
   "id": "4d2da548-4ec2-4aec-b7e8-c35a4f6ee245",
   "metadata": {
    "tags": []
   },
   "source": [
    "### GET API Data"
   ]
  },
  {
   "cell_type": "code",
   "execution_count": 24,
   "id": "a762fdf9-7acb-4f0e-9838-5db6108e5cf5",
   "metadata": {},
   "outputs": [],
   "source": [
    "# Return the json file using get_api function\n",
    "coinspot_data = get_api(coinspot_url)\n",
    "\n",
    "btcmarkets_data_btc = get_api(btcmarkets_url_btc)\n",
    "btcmarkets_data_eth = get_api(btcmarkets_url_eth)\n",
    "\n",
    "alternative_data_btc = get_api(alternative_btc)\n",
    "alternative_data_eth  = get_api(alternative_eth)\n",
    "\n",
    "independent_data_btc = get_api(independent_btc)\n",
    "independent_data_eth = get_api(independent_eth)\n"
   ]
  },
  {
   "cell_type": "markdown",
   "id": "9e8bbbf3",
   "metadata": {},
   "source": []
  },
  {
   "cell_type": "markdown",
   "id": "81d71155-8828-4bc0-a622-7b4bf56b8b19",
   "metadata": {
    "tags": []
   },
   "source": [
    "### Convert to Dictionaries"
   ]
  },
  {
   "cell_type": "code",
   "execution_count": 25,
   "id": "9ff50d12-02e6-4903-9aa0-1b14836c2575",
   "metadata": {},
   "outputs": [
    {
     "name": "stdout",
     "output_type": "stream",
     "text": [
      "AUD volume is approximately $67,830,592,609.50\n",
      "AUD volume is approximately $32,085,275,006.88\n"
     ]
    }
   ],
   "source": [
    "# Run Coinspot Functions\n",
    "btc_coinspot = crypto_price_coinspot(crypto_ticker = \"btc\")\n",
    "eth_coinspot = crypto_price_coinspot(crypto_ticker = \"eth\")\n",
    "\n",
    "#Run btcmarkets functions\n",
    "btc_btcmarkets = crypto_price_btcmarkets(crypto_ticker = \"btc\",btcmarkets_api = btcmarkets_data_btc)\n",
    "eth_btcmarkets = crypto_price_btcmarkets(crypto_ticker = \"eth\",btcmarkets_api = btcmarkets_data_eth)\n",
    "\n",
    "#Run btcmarkets functions\n",
    "btc_alternative = crypto_price_alternative(id_ = \"1\",url_ = alternative_btc)\n",
    "eth_alternative  = crypto_price_alternative(id_ = \"1027\",url_  = alternative_eth )\n",
    "\n",
    "#Run independent functions\n",
    "btc_independent = crypto_price_independent(independent_btc)\n",
    "eth_independent = crypto_price_independent(independent_eth)\n",
    "\n",
    "#Join Dictionaries\n",
    "btcmarkets_prices = {\"btc\": btc_btcmarkets,\"eth\" :eth_btcmarkets}\n",
    "coinspot_prices = {\"btc\": btc_coinspot,\"eth\" :eth_coinspot}\n",
    "alternative_prices = {\"btc\": btc_alternative,\"eth\" :eth_alternative}\n",
    "independent_prices = {\"btc\": btc_independent,\"eth\" :eth_independent}"
   ]
  },
  {
   "cell_type": "markdown",
   "id": "0b228818-4d4f-4076-ae95-dd1234bb499b",
   "metadata": {
    "tags": []
   },
   "source": [
    "### Create DataFrame"
   ]
  },
  {
   "cell_type": "code",
   "execution_count": 26,
   "id": "88b212fd-cc89-4dfc-bc95-49e81b73cc18",
   "metadata": {},
   "outputs": [],
   "source": [
    "# Convert Dictionaries to Dataframe\n",
    "coinspot_df = pd.DataFrame.from_dict(coinspot_prices,orient = \"index\")\n",
    "btcmarkets_df = pd.DataFrame.from_dict(btcmarkets_prices,orient = \"index\")\n",
    "alternative_df = pd.DataFrame.from_dict(alternative_prices,orient = \"index\")\n",
    "independent_df = pd.DataFrame.from_dict(independent_prices,orient = \"index\")\n"
   ]
  },
  {
   "cell_type": "code",
   "execution_count": null,
   "id": "4e8ef0a4",
   "metadata": {},
   "outputs": [],
   "source": []
  },
  {
   "cell_type": "code",
   "execution_count": 27,
   "id": "e997adca",
   "metadata": {},
   "outputs": [
    {
     "data": {
      "text/html": [
       "<div>\n",
       "<style scoped>\n",
       "    .dataframe tbody tr th:only-of-type {\n",
       "        vertical-align: middle;\n",
       "    }\n",
       "\n",
       "    .dataframe tbody tr th {\n",
       "        vertical-align: top;\n",
       "    }\n",
       "\n",
       "    .dataframe thead th {\n",
       "        text-align: right;\n",
       "    }\n",
       "</style>\n",
       "<table border=\"1\" class=\"dataframe\">\n",
       "  <thead>\n",
       "    <tr style=\"text-align: right;\">\n",
       "      <th></th>\n",
       "      <th>coinspot bid</th>\n",
       "      <th>coinspot ask</th>\n",
       "      <th>coinspot sell</th>\n",
       "      <th>btcmarkets bid</th>\n",
       "      <th>btcmarkets ask</th>\n",
       "      <th>btcmarkets sell</th>\n",
       "      <th>independent bid</th>\n",
       "      <th>independent ask</th>\n",
       "      <th>independent sell</th>\n",
       "      <th>alternative ask</th>\n",
       "    </tr>\n",
       "  </thead>\n",
       "  <tbody>\n",
       "    <tr>\n",
       "      <th>btc</th>\n",
       "      <td>33188</td>\n",
       "      <td>33308.99999995</td>\n",
       "      <td>33188.30000001</td>\n",
       "      <td>33165.73</td>\n",
       "      <td>33200</td>\n",
       "      <td>33236.99</td>\n",
       "      <td>33209.99</td>\n",
       "      <td>33156.11</td>\n",
       "      <td>33074.99</td>\n",
       "      <td>33132.334031</td>\n",
       "    </tr>\n",
       "    <tr>\n",
       "      <th>eth</th>\n",
       "      <td>2139.51000004</td>\n",
       "      <td>2164.47528457</td>\n",
       "      <td>2148.8</td>\n",
       "      <td>2158.58</td>\n",
       "      <td>2162.24</td>\n",
       "      <td>2160.14</td>\n",
       "      <td>33209.99</td>\n",
       "      <td>33156.11</td>\n",
       "      <td>33074.99</td>\n",
       "      <td>2152.552717</td>\n",
       "    </tr>\n",
       "  </tbody>\n",
       "</table>\n",
       "</div>"
      ],
      "text/plain": [
       "      coinspot bid    coinspot ask   coinspot sell btcmarkets bid  \\\n",
       "btc          33188  33308.99999995  33188.30000001       33165.73   \n",
       "eth  2139.51000004   2164.47528457          2148.8        2158.58   \n",
       "\n",
       "    btcmarkets ask btcmarkets sell  independent bid  independent ask  \\\n",
       "btc          33200        33236.99         33209.99         33156.11   \n",
       "eth        2162.24         2160.14         33209.99         33156.11   \n",
       "\n",
       "     independent sell  alternative ask  \n",
       "btc          33074.99     33132.334031  \n",
       "eth          33074.99      2152.552717  "
      ]
     },
     "execution_count": 27,
     "metadata": {},
     "output_type": "execute_result"
    }
   ],
   "source": [
    "# Join dataframes\n",
    "all_prices = pd.concat([coinspot_df,btcmarkets_df,independent_df,alternative_df], axis=\"columns\", join=\"outer\")\n",
    "\n",
    "#Show Data\n",
    "all_prices.head()"
   ]
  },
  {
   "cell_type": "markdown",
   "id": "0ce95b05-6baf-41b4-82d4-a761152e2e6d",
   "metadata": {},
   "source": [
    "### Convert to float and perform basic calculations"
   ]
  },
  {
   "cell_type": "code",
   "execution_count": 28,
   "id": "d82968c0-8ed7-4e70-bc0d-eca81941b2cd",
   "metadata": {
    "tags": []
   },
   "outputs": [
    {
     "data": {
      "text/html": [
       "<div>\n",
       "<style scoped>\n",
       "    .dataframe tbody tr th:only-of-type {\n",
       "        vertical-align: middle;\n",
       "    }\n",
       "\n",
       "    .dataframe tbody tr th {\n",
       "        vertical-align: top;\n",
       "    }\n",
       "\n",
       "    .dataframe thead th {\n",
       "        text-align: right;\n",
       "    }\n",
       "</style>\n",
       "<table border=\"1\" class=\"dataframe\">\n",
       "  <thead>\n",
       "    <tr style=\"text-align: right;\">\n",
       "      <th></th>\n",
       "      <th>coinspot bid</th>\n",
       "      <th>coinspot ask</th>\n",
       "      <th>coinspot sell</th>\n",
       "      <th>btcmarkets bid</th>\n",
       "      <th>btcmarkets ask</th>\n",
       "      <th>btcmarkets sell</th>\n",
       "      <th>independent bid</th>\n",
       "      <th>independent ask</th>\n",
       "      <th>independent sell</th>\n",
       "      <th>alternative ask</th>\n",
       "      <th>bid_diff</th>\n",
       "      <th>ask_diff</th>\n",
       "      <th>sell_diff</th>\n",
       "    </tr>\n",
       "  </thead>\n",
       "  <tbody>\n",
       "    <tr>\n",
       "      <th>btc</th>\n",
       "      <td>33188.00</td>\n",
       "      <td>33309.000000</td>\n",
       "      <td>33188.3</td>\n",
       "      <td>33165.73</td>\n",
       "      <td>33200.00</td>\n",
       "      <td>33236.99</td>\n",
       "      <td>33209.99</td>\n",
       "      <td>33156.11</td>\n",
       "      <td>33074.99</td>\n",
       "      <td>33132.334031</td>\n",
       "      <td>22.27</td>\n",
       "      <td>109.000000</td>\n",
       "      <td>-48.69</td>\n",
       "    </tr>\n",
       "    <tr>\n",
       "      <th>eth</th>\n",
       "      <td>2139.51</td>\n",
       "      <td>2164.475285</td>\n",
       "      <td>2148.8</td>\n",
       "      <td>2158.58</td>\n",
       "      <td>2162.24</td>\n",
       "      <td>2160.14</td>\n",
       "      <td>33209.99</td>\n",
       "      <td>33156.11</td>\n",
       "      <td>33074.99</td>\n",
       "      <td>2152.552717</td>\n",
       "      <td>-19.07</td>\n",
       "      <td>2.235285</td>\n",
       "      <td>-11.34</td>\n",
       "    </tr>\n",
       "  </tbody>\n",
       "</table>\n",
       "</div>"
      ],
      "text/plain": [
       "     coinspot bid  coinspot ask  coinspot sell  btcmarkets bid  \\\n",
       "btc      33188.00  33309.000000        33188.3        33165.73   \n",
       "eth       2139.51   2164.475285         2148.8         2158.58   \n",
       "\n",
       "     btcmarkets ask  btcmarkets sell  independent bid  independent ask  \\\n",
       "btc        33200.00         33236.99         33209.99         33156.11   \n",
       "eth         2162.24          2160.14         33209.99         33156.11   \n",
       "\n",
       "     independent sell  alternative ask  bid_diff    ask_diff  sell_diff  \n",
       "btc          33074.99     33132.334031     22.27  109.000000     -48.69  \n",
       "eth          33074.99      2152.552717    -19.07    2.235285     -11.34  "
      ]
     },
     "execution_count": 28,
     "metadata": {},
     "output_type": "execute_result"
    }
   ],
   "source": [
    "#Show Data\n",
    "all_prices = all_prices.astype(float).copy()\n",
    "\n",
    "all_prices[\"bid_diff\"] = all_prices[\"coinspot bid\"] - all_prices[\"btcmarkets bid\"]\n",
    "all_prices[\"ask_diff\"] = all_prices[\"coinspot ask\"] - all_prices[\"btcmarkets ask\"]\n",
    "all_prices[\"sell_diff\"] = all_prices[\"coinspot sell\"] - all_prices[\"btcmarkets sell\"]\n",
    "\n",
    "all_prices.head()"
   ]
  },
  {
   "cell_type": "code",
   "execution_count": null,
   "id": "6060eb57",
   "metadata": {},
   "outputs": [],
   "source": []
  },
  {
   "cell_type": "code",
   "execution_count": null,
   "id": "89d99ac5",
   "metadata": {},
   "outputs": [],
   "source": []
  }
 ],
 "metadata": {
  "kernelspec": {
   "display_name": "dev",
   "language": "python",
   "name": "dev"
  },
  "language_info": {
   "codemirror_mode": {
    "name": "ipython",
    "version": 3
   },
   "file_extension": ".py",
   "mimetype": "text/x-python",
   "name": "python",
   "nbconvert_exporter": "python",
   "pygments_lexer": "ipython3",
   "version": "3.7.13"
  },
  "vscode": {
   "interpreter": {
    "hash": "ab0c4e73bab7818f14ad10b08b056e87310a7e4378f8ca41fc21477ec92f4903"
   }
  }
 },
 "nbformat": 4,
 "nbformat_minor": 5
}
