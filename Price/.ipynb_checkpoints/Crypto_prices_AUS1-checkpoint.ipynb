{
 "cells": [
  {
   "cell_type": "markdown",
   "id": "743b9fb5-6372-47e8-947c-a308f5e24f95",
   "metadata": {},
   "source": [
    "### Import Libraries"
   ]
  },
  {
   "cell_type": "code",
   "execution_count": 1,
   "id": "dd9133ae-8f73-4ab9-8f22-467b4988144e",
   "metadata": {},
   "outputs": [],
   "source": [
    "import requests\n",
    "import json\n",
    "import pandas as pd"
   ]
  },
  {
   "cell_type": "markdown",
   "id": "1bc7729b-a30c-424f-9cce-1b436ed00a6e",
   "metadata": {
    "jp-MarkdownHeadingCollapsed": true,
    "tags": []
   },
   "source": [
    "### Initialise Functions"
   ]
  },
  {
   "cell_type": "code",
   "execution_count": 2,
   "id": "a960410d-f88a-4c0e-a64d-7ce20f8e25cc",
   "metadata": {},
   "outputs": [],
   "source": [
    "#function to extract data from btcmarkets\n",
    "def crypto_price_btcmarkets(crypto_ticker,btcmarkets_api):\n",
    "\n",
    "    # Gather prices\n",
    "    crypto_bid = btcmarkets_api[\"bestBid\"]\n",
    "    crypto_ask = btcmarkets_api[\"bestAsk\"]\n",
    "    crypto_last = btcmarkets_api[\"lastPrice\"]\n",
    "    \n",
    "    # print(f\"{crypto_ticker} Buy: ${float(crypto_bid):,}\")\n",
    "    # print(f\"{crypto_ticker} Sell: ${float(crypto_ask):,}\")\n",
    "    # print(f\"{crypto_ticker} Last Transaction: ${float(crypto_last):,}\")\n",
    "    \n",
    "    #return as dictionary\n",
    "    return{\"btcmarkets bid\":crypto_bid,\"btcmarkets ask\":crypto_ask,\"btcmarkets sell\":crypto_last}\n",
    "\n",
    "#function to extract data from btcmarkets\n",
    "def crypto_price_coinspot(crypto_ticker):\n",
    "    \n",
    "    # Gather prices\n",
    "    crypto_bid = coinspot_data[\"prices\"][crypto_ticker][\"bid\"]\n",
    "    crypto_ask = coinspot_data[\"prices\"][crypto_ticker][\"ask\"]\n",
    "    crypto_last = coinspot_data[\"prices\"][crypto_ticker][\"last\"]\n",
    "    \n",
    "    # print(f\"{crypto_ticker} Buy: ${float(crypto_bid):,}\")\n",
    "    # print(f\"{crypto_ticker} Sell: ${float(crypto_ask):,}\")\n",
    "    # print(f\"{crypto_ticker} Last Transaction: ${float(crypto_last):,}\")\n",
    "\n",
    "        #return as dictionary\n",
    "    return{\"coinspot bid\":crypto_bid,\"coinspot ask\":crypto_ask,\"coinspot sell\":crypto_last}\n",
    "\n",
    "### Execute GET request with URL\n",
    "\n",
    "def get_api(coin_url):\n",
    "\n",
    "    # Execute get request\n",
    "    requests.get(coin_url)\n",
    "\n",
    "    ### Store response as variable\n",
    "\n",
    "    # Execute GET request and store response\n",
    "    coin_response_data = requests.get(coin_url)\n",
    "\n",
    "    ### Retrieve API output using `content` attribute\n",
    "\n",
    "    # Get content\n",
    "    coin_response_content = coin_response_data.content\n",
    "\n",
    "    # print(response_content)\n",
    "\n",
    "    # Formatting as json\n",
    "    coin_data = coin_response_data.json()\n",
    "    \n",
    "    #Print data as formatted json with indents\n",
    "    # print(json.dumps(coinspot_data, indent=4))\n",
    "    \n",
    "    return coin_data"
   ]
  },
  {
   "cell_type": "markdown",
   "id": "9a37f2bb-da9a-4d0e-8655-1836479c0dd4",
   "metadata": {
    "tags": []
   },
   "source": [
    "### Initialise API calls"
   ]
  },
  {
   "cell_type": "code",
   "execution_count": 3,
   "id": "8e59fe0d-bf61-46f2-9afe-de9dd1ce7af6",
   "metadata": {
    "tags": []
   },
   "outputs": [],
   "source": [
    "# Create variable to hold request url\n",
    "coinspot_url = \"https://www.coinspot.com.au/pubapi/latest\"\n",
    "btcmarkets_url_btc =\"https://api.btcmarkets.net/v3/markets/BTC-AUD/ticker\"\n",
    "btcmarkets_url_eth =\"https://api.btcmarkets.net/v3/markets/ETH-AUD/ticker\""
   ]
  },
  {
   "cell_type": "markdown",
   "id": "4d2da548-4ec2-4aec-b7e8-c35a4f6ee245",
   "metadata": {
    "tags": []
   },
   "source": [
    "### GET API Data"
   ]
  },
  {
   "cell_type": "code",
   "execution_count": 4,
   "id": "a762fdf9-7acb-4f0e-9838-5db6108e5cf5",
   "metadata": {},
   "outputs": [],
   "source": [
    "# Return the json file using get_api function\n",
    "coinspot_data = get_api(coinspot_url)\n",
    "btcmarkets_data_btc = get_api(btcmarkets_url_btc)\n",
    "btcmarkets_data_eth = get_api(btcmarkets_url_eth)\n",
    "### Format JSON with indents\n"
   ]
  },
  {
   "cell_type": "markdown",
   "id": "81d71155-8828-4bc0-a622-7b4bf56b8b19",
   "metadata": {
    "tags": []
   },
   "source": [
    "### Convert to Dictionaries"
   ]
  },
  {
   "cell_type": "code",
   "execution_count": 5,
   "id": "9ff50d12-02e6-4903-9aa0-1b14836c2575",
   "metadata": {},
   "outputs": [],
   "source": [
    "# Run Coinspot Functions\n",
    "btc_coinspot = crypto_price_coinspot(crypto_ticker = \"btc\")\n",
    "eth_coinspot = crypto_price_coinspot(crypto_ticker = \"eth\")\n",
    "\n",
    "#Run btcmarkets functions\n",
    "btc_btcmarkets = crypto_price_btcmarkets(crypto_ticker = \"btc\",btcmarkets_api = btcmarkets_data_btc)\n",
    "eth_btcmarkets = crypto_price_btcmarkets(crypto_ticker = \"eth\",btcmarkets_api = btcmarkets_data_eth)\n",
    "\n",
    "#Join Dictionaries\n",
    "btcmarkets_prices = {\"btc\": btc_btcmarkets,\"eth\" :eth_btcmarkets}\n",
    "coinspot_prices = {\"btc\": btc_coinspot,\"eth\" :eth_coinspot}"
   ]
  },
  {
   "cell_type": "markdown",
   "id": "0b228818-4d4f-4076-ae95-dd1234bb499b",
   "metadata": {
    "tags": []
   },
   "source": [
    "### Create DataFrame"
   ]
  },
  {
   "cell_type": "code",
   "execution_count": 6,
   "id": "88b212fd-cc89-4dfc-bc95-49e81b73cc18",
   "metadata": {},
   "outputs": [
    {
     "data": {
      "text/html": [
       "<div>\n",
       "<style scoped>\n",
       "    .dataframe tbody tr th:only-of-type {\n",
       "        vertical-align: middle;\n",
       "    }\n",
       "\n",
       "    .dataframe tbody tr th {\n",
       "        vertical-align: top;\n",
       "    }\n",
       "\n",
       "    .dataframe thead th {\n",
       "        text-align: right;\n",
       "    }\n",
       "</style>\n",
       "<table border=\"1\" class=\"dataframe\">\n",
       "  <thead>\n",
       "    <tr style=\"text-align: right;\">\n",
       "      <th></th>\n",
       "      <th>coinspot bid</th>\n",
       "      <th>coinspot ask</th>\n",
       "      <th>coinspot sell</th>\n",
       "      <th>btcmarkets bid</th>\n",
       "      <th>btcmarkets ask</th>\n",
       "      <th>btcmarkets sell</th>\n",
       "    </tr>\n",
       "  </thead>\n",
       "  <tbody>\n",
       "    <tr>\n",
       "      <th>btc</th>\n",
       "      <td>28800</td>\n",
       "      <td>29186.69999975</td>\n",
       "      <td>29521.37</td>\n",
       "      <td>28714.71</td>\n",
       "      <td>28762.37</td>\n",
       "      <td>28727.31</td>\n",
       "    </tr>\n",
       "    <tr>\n",
       "      <th>eth</th>\n",
       "      <td>1560</td>\n",
       "      <td>1561.30190491</td>\n",
       "      <td>1563.65562541</td>\n",
       "      <td>1552.07</td>\n",
       "      <td>1555.62</td>\n",
       "      <td>1557.89</td>\n",
       "    </tr>\n",
       "  </tbody>\n",
       "</table>\n",
       "</div>"
      ],
      "text/plain": [
       "    coinspot bid    coinspot ask  coinspot sell btcmarkets bid btcmarkets ask  \\\n",
       "btc        28800  29186.69999975       29521.37       28714.71       28762.37   \n",
       "eth         1560   1561.30190491  1563.65562541        1552.07        1555.62   \n",
       "\n",
       "    btcmarkets sell  \n",
       "btc        28727.31  \n",
       "eth         1557.89  "
      ]
     },
     "execution_count": 6,
     "metadata": {},
     "output_type": "execute_result"
    }
   ],
   "source": [
    "# Convert Dictionaries to Dataframe\n",
    "coinspot_df = pd.DataFrame.from_dict(coinspot_prices,orient = \"index\")\n",
    "btcmarkets_df = pd.DataFrame.from_dict(btcmarkets_prices,orient = \"index\")\n",
    "\n",
    "# Join dataframes\n",
    "all_prices = pd.concat([coinspot_df,btcmarkets_df], axis=\"columns\", join=\"inner\")\n",
    "\n",
    "#Show Data\n",
    "all_prices.head()"
   ]
  },
  {
   "cell_type": "markdown",
   "id": "0ce95b05-6baf-41b4-82d4-a761152e2e6d",
   "metadata": {},
   "source": [
    "### Convert to float and perform basic calculations"
   ]
  },
  {
   "cell_type": "code",
   "execution_count": 7,
   "id": "d82968c0-8ed7-4e70-bc0d-eca81941b2cd",
   "metadata": {
    "tags": []
   },
   "outputs": [
    {
     "data": {
      "text/html": [
       "<div>\n",
       "<style scoped>\n",
       "    .dataframe tbody tr th:only-of-type {\n",
       "        vertical-align: middle;\n",
       "    }\n",
       "\n",
       "    .dataframe tbody tr th {\n",
       "        vertical-align: top;\n",
       "    }\n",
       "\n",
       "    .dataframe thead th {\n",
       "        text-align: right;\n",
       "    }\n",
       "</style>\n",
       "<table border=\"1\" class=\"dataframe\">\n",
       "  <thead>\n",
       "    <tr style=\"text-align: right;\">\n",
       "      <th></th>\n",
       "      <th>coinspot bid</th>\n",
       "      <th>coinspot ask</th>\n",
       "      <th>coinspot sell</th>\n",
       "      <th>btcmarkets bid</th>\n",
       "      <th>btcmarkets ask</th>\n",
       "      <th>btcmarkets sell</th>\n",
       "      <th>bid_diff</th>\n",
       "      <th>ask_diff</th>\n",
       "      <th>sell_diff</th>\n",
       "    </tr>\n",
       "  </thead>\n",
       "  <tbody>\n",
       "    <tr>\n",
       "      <th>btc</th>\n",
       "      <td>28800.0</td>\n",
       "      <td>29186.700000</td>\n",
       "      <td>29521.370000</td>\n",
       "      <td>28714.71</td>\n",
       "      <td>28762.37</td>\n",
       "      <td>28727.31</td>\n",
       "      <td>85.29</td>\n",
       "      <td>424.330000</td>\n",
       "      <td>794.060000</td>\n",
       "    </tr>\n",
       "    <tr>\n",
       "      <th>eth</th>\n",
       "      <td>1560.0</td>\n",
       "      <td>1561.301905</td>\n",
       "      <td>1563.655625</td>\n",
       "      <td>1552.07</td>\n",
       "      <td>1555.62</td>\n",
       "      <td>1557.89</td>\n",
       "      <td>7.93</td>\n",
       "      <td>5.681905</td>\n",
       "      <td>5.765625</td>\n",
       "    </tr>\n",
       "  </tbody>\n",
       "</table>\n",
       "</div>"
      ],
      "text/plain": [
       "     coinspot bid  coinspot ask  coinspot sell  btcmarkets bid  \\\n",
       "btc       28800.0  29186.700000   29521.370000        28714.71   \n",
       "eth        1560.0   1561.301905    1563.655625         1552.07   \n",
       "\n",
       "     btcmarkets ask  btcmarkets sell  bid_diff    ask_diff   sell_diff  \n",
       "btc        28762.37         28727.31     85.29  424.330000  794.060000  \n",
       "eth         1555.62          1557.89      7.93    5.681905    5.765625  "
      ]
     },
     "execution_count": 7,
     "metadata": {},
     "output_type": "execute_result"
    }
   ],
   "source": [
    "#Show Data\n",
    "all_prices = all_prices.astype(float).copy()\n",
    "\n",
    "all_prices[\"bid_diff\"] = all_prices[\"coinspot bid\"] - all_prices[\"btcmarkets bid\"]\n",
    "all_prices[\"ask_diff\"] = all_prices[\"coinspot ask\"] - all_prices[\"btcmarkets ask\"]\n",
    "all_prices[\"sell_diff\"] = all_prices[\"coinspot sell\"] - all_prices[\"btcmarkets sell\"]\n",
    "\n",
    "all_prices"
   ]
  }
 ],
 "metadata": {
  "kernelspec": {
   "display_name": "dev",
   "language": "python",
   "name": "dev"
  },
  "language_info": {
   "codemirror_mode": {
    "name": "ipython",
    "version": 3
   },
   "file_extension": ".py",
   "mimetype": "text/x-python",
   "name": "python",
   "nbconvert_exporter": "python",
   "pygments_lexer": "ipython3",
   "version": "3.9.12"
  }
 },
 "nbformat": 4,
 "nbformat_minor": 5
}
