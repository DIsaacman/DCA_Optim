{
 "cells": [
  {
   "cell_type": "markdown",
   "id": "743b9fb5-6372-47e8-947c-a308f5e24f95",
   "metadata": {},
   "source": [
    "### Import Libraries"
   ]
  },
  {
   "cell_type": "code",
   "execution_count": 1,
   "id": "dd9133ae-8f73-4ab9-8f22-467b4988144e",
   "metadata": {},
   "outputs": [],
   "source": [
    "import requests\n",
    "import json\n",
    "import pandas as pd\n",
    "# import yahoo_fin.stock_info as si\n",
    "from datetime import datetime, timedelta\n",
    "from pandas import json_normalize\n",
    "import csv"
   ]
  },
  {
   "cell_type": "markdown",
   "id": "f183ead9-2ef4-4711-8e75-9b24d0a30eec",
   "metadata": {
    "tags": []
   },
   "source": [
    "### Initialise API calls"
   ]
  },
  {
   "cell_type": "code",
   "execution_count": 2,
   "id": "ac6481b8-0068-4415-9b86-65a0599b8d43",
   "metadata": {
    "tags": []
   },
   "outputs": [],
   "source": [
    "# Create variable to hold request url\n",
    "coinspot_url = \"https://www.coinspot.com.au/pubapi/latest\"\n",
    "\n",
    "btcmarkets_url_btc =\"https://api.btcmarkets.net/v3/markets/BTC-AUD/ticker\"\n",
    "btcmarkets_url_eth =\"https://api.btcmarkets.net/v3/markets/ETH-AUD/ticker\"\n",
    "\n",
    "# alternative_btc = \"https://api.alternative.me/v2/ticker/Bitcoin/\"\n",
    "# alternative_eth = \"https://api.alternative.me/v2/ticker/Ethereum/\"\n",
    "\n",
    "independent_btc = \"https://api.independentreserve.com/Public/GetMarketSummary?primaryCurrencyCode=xbt&secondaryCurrencyCode=aud\"\n",
    "independent_eth = \"https://api.independentreserve.com/Public/GetMarketSummary?primaryCurrencyCode=eth&secondaryCurrencyCode=aud\"\n",
    "\n",
    "binance_btc = \"https://api.binance.com/api/v3/exchangeInfo?symbol=BTCAUD\"\n",
    "binance_eth = \"https://api.binance.com/api/v3/exchangeInfo?symbol=ETHAUD\""
   ]
  },
  {
   "cell_type": "markdown",
   "id": "1a1bdd7a",
   "metadata": {},
   "source": [
    "### Get AUD to USD Conversion"
   ]
  },
  {
   "cell_type": "code",
   "execution_count": 3,
   "id": "aa535254",
   "metadata": {},
   "outputs": [],
   "source": [
    "# # Convert AUD to USD\n",
    "\n",
    "# def convert_currency_yahoofin(src, dst):\n",
    "#     # construct the currency pair symbol\n",
    "#     symbol = f\"{src}{dst}=X\"\n",
    "#     # extract minute data of the recent 2 days\n",
    "#     latest_data = si.get_data(symbol, interval=\"1m\", start_date=datetime.now() - timedelta(days=2))\n",
    "#     # get the latest datetime\n",
    "#     last_updated_datetime = latest_data.index[-1].to_pydatetime()\n",
    "#     # get the latest price\n",
    "#     latest_price = latest_data.iloc[-1].close\n",
    "#     # return the latest datetime with the converted amount\n",
    "#     print(f\"Yahoo Finance USD to AUD Conversione ($ {latest_price:.3f}) Price last updated {last_updated_datetime}\")\n",
    "#     return  latest_price\n",
    "\n",
    "# ### Get AUD -USD Conversion Rate\n",
    "# aud_convert = convert_currency_yahoofin(\"USD\",\"AUD\")"
   ]
  },
  {
   "cell_type": "markdown",
   "id": "1bc7729b-a30c-424f-9cce-1b436ed00a6e",
   "metadata": {
    "tags": []
   },
   "source": [
    "### Initialise Functions"
   ]
  },
  {
   "cell_type": "markdown",
   "id": "8188e63d-068e-4a7f-a9ca-88e407abf7c1",
   "metadata": {},
   "source": [
    "### Execute GET request with URL"
   ]
  },
  {
   "cell_type": "code",
   "execution_count": 4,
   "id": "218138b0-a4b1-402f-8c2c-22009fb8b22b",
   "metadata": {},
   "outputs": [],
   "source": [
    "#function to extract coin data from API. Python best practice\n",
    "def get_api(coin_url):\n",
    "\n",
    "    # Execute get request\n",
    "    requests.get(coin_url)\n",
    "\n",
    "    ### Store response as variable\n",
    "\n",
    "    # Execute GET request and store response\n",
    "    coin_response_data = requests.get(coin_url)\n",
    "\n",
    "    ### Retrieve API output using `content` attribute\n",
    "\n",
    "    # Get content\n",
    "    coin_response_content = coin_response_data.content\n",
    "\n",
    "    # print(response_content)\n",
    "\n",
    "    # Formatting as json\n",
    "    coin_data = coin_response_data.json()\n",
    "    \n",
    "    #Print data as formatted json with indents\n",
    "    # print(json.dumps(coinspot_data, indent=3))\n",
    "    \n",
    "    return coin_data"
   ]
  },
  {
   "cell_type": "markdown",
   "id": "a502c9ed-7919-47d2-916b-77ceed756f10",
   "metadata": {
    "tags": []
   },
   "source": [
    "### btcmarkets.net API"
   ]
  },
  {
   "cell_type": "code",
   "execution_count": 5,
   "id": "63705968-4f38-4478-a228-0ea291a0ee30",
   "metadata": {},
   "outputs": [],
   "source": [
    "#function to extract data from btcmarkets\n",
    "def crypto_price_btcmarkets(crypto_ticker,btcmarkets_api):\n",
    "\n",
    "    # Gather prices\n",
    "    crypto_bid = btcmarkets_api[\"bestBid\"]\n",
    "    crypto_ask = btcmarkets_api[\"bestAsk\"]\n",
    "    crypto_last = btcmarkets_api[\"lastPrice\"]\n",
    "    crypto_vol = btcmarkets_api[\"volume24h\"]\n",
    "    \n",
    "    ##Test Function\n",
    "    # print(f\"{crypto_ticker} Buy: ${float(crypto_bid):,}\")\n",
    "    # print(f\"{crypto_ticker} Sell: ${float(crypto_ask):,}\")\n",
    "    # print(f\"{crypto_ticker} Last Transaction: ${float(crypto_last):,}\")\n",
    "        \n",
    "    #return as dictionary\n",
    "    return{\"btcmarkets bid\":crypto_bid,\n",
    "           \"btcmarkets ask\":crypto_ask,\n",
    "           \"btcmarkets sell\":crypto_last,\n",
    "           \"btcmarkets_vol\": crypto_vol\n",
    "        }\n",
    "\n",
    "# Test Function\n",
    "# btcmarkets_url_btc =\"https://api.btcmarkets.net/v3/markets/BTC-AUD/ticker\"\n",
    "# btcmarkets_data_btc = get_api(btcmarkets_url_btc)\n",
    "# btcmarkets_df  = pd.DataFrame.from_dict(btcmarkets_data_btc, orient ='index')\n",
    "# btcmarkets_df.columns = [\"btc\"]\n",
    "# btcmarkets_df\n"
   ]
  },
  {
   "cell_type": "markdown",
   "id": "fb15fb98-b252-43e8-b2e0-d5b662d4e77b",
   "metadata": {},
   "source": [
    "### Coinspot API"
   ]
  },
  {
   "cell_type": "code",
   "execution_count": 6,
   "id": "581c8fd2-b26a-45e8-939c-38524f43fc0d",
   "metadata": {},
   "outputs": [],
   "source": [
    "def crypto_price_coinspot(crypto_ticker):\n",
    "    \n",
    "    # Gather prices\n",
    "    crypto_bid = coinspot_data[\"prices\"][crypto_ticker][\"bid\"]\n",
    "    crypto_ask = coinspot_data[\"prices\"][crypto_ticker][\"ask\"]\n",
    "    crypto_last = coinspot_data[\"prices\"][crypto_ticker][\"last\"]\n",
    "    \n",
    "    # print(f\"{crypto_ticker} Buy: ${float(crypto_bid):,}\")\n",
    "    # print(f\"{crypto_ticker} Sell: ${float(crypto_ask):,}\")\n",
    "    # print(f\"{crypto_ticker} Last Transaction: ${float(crypto_last):,}\")\n",
    "\n",
    "        #return as dictionary\n",
    "    return{\"coinspot bid\":crypto_bid,\"coinspot ask\":crypto_ask,\"coinspot sell\":crypto_last}\n",
    "\n",
    "# #Test Function\n",
    "# coinspot_url = \"https://www.coinspot.com.au/pubapi/latest\"\n",
    "# coinspot_data =       get_api(coinspot_url)\n",
    "# df = json_normalize(coinspot_data[\"prices\"]) \n",
    "# df"
   ]
  },
  {
   "cell_type": "markdown",
   "id": "af8740cd-d98f-4ae5-a84d-7d82520a234a",
   "metadata": {},
   "source": [
    "### Alternative API"
   ]
  },
  {
   "cell_type": "code",
   "execution_count": 7,
   "id": "a9cd810e-3de8-4d39-a2d3-c3577a908cf9",
   "metadata": {},
   "outputs": [],
   "source": [
    "# #function to extract data from alternative\n",
    "# def crypto_price_alternative(id_,url_):\n",
    "    \n",
    "#     # Execute get request\n",
    "#     requests.get(url_)\n",
    "\n",
    "#     # Execute GET request and store response\n",
    "#     response_data = requests.get(url_)\n",
    "\n",
    "#     # Get content\n",
    "#     response_content = response_data.content\n",
    "\n",
    "#     # Formatting as json\n",
    "#     data = response_data.json()\n",
    "\n",
    "#     crypto_price = data[\"data\"][id_][\"quotes\"][\"USD\"][\"price\"]\n",
    "#     crypto_vol = data[\"data\"][id_][\"quotes\"][\"USD\"][\"volume_24h\"]\n",
    "   \n",
    "#     crypto_ask = crypto_price * aud_convert\n",
    "#     aud_vol = crypto_vol * aud_convert\n",
    "\n",
    "#     # print(f\"{id_} is ${price:,.2f}\")\n",
    "#     print(f\"AUD volume is approximately ${aud_vol:,.2f}\")\n",
    "\n",
    "#     return {\"alternative ask\":crypto_ask}\n",
    "\n",
    "# alternative_btc = \"https://api.alternative.me/v2/ticker/Bitcoin/\""
   ]
  },
  {
   "cell_type": "markdown",
   "id": "14809baa-3997-4ffd-89a0-cf9cb29c5bbd",
   "metadata": {},
   "source": [
    "### Independent Reserve API"
   ]
  },
  {
   "cell_type": "code",
   "execution_count": 8,
   "id": "b3d5191a-5344-4bbb-b14f-195d0281199a",
   "metadata": {
    "tags": []
   },
   "outputs": [],
   "source": [
    "#function to extract data from independent\n",
    "def crypto_price_independent(url_):\n",
    "    \n",
    "    # Gather prices\n",
    "    crypto_bid = independent_data_btc[\"CurrentLowestOfferPrice\"]\n",
    "    crypto_ask = independent_data_btc[\"CurrentHighestBidPrice\"]\n",
    "    crypto_last = independent_data_btc[\"LastPrice\"]\n",
    "    \n",
    "    # print(f\"{crypto_ticker} Buy: ${float(crypto_bid):,}\")\n",
    "    # print(f\"{crypto_ticker} Sell: ${float(crypto_ask):,}\")\n",
    "    # print(f\"{crypto_ticker} Last Transaction: ${float(crypto_last):,}\")\n",
    "\n",
    "        #return as dictionary\n",
    "    return{\"independent bid\":crypto_bid,\"independent ask\":crypto_ask,\"independent sell\":crypto_last}"
   ]
  },
  {
   "cell_type": "markdown",
   "id": "4d2da548-4ec2-4aec-b7e8-c35a4f6ee245",
   "metadata": {
    "tags": []
   },
   "source": [
    "### GET API Data"
   ]
  },
  {
   "cell_type": "code",
   "execution_count": 9,
   "id": "a762fdf9-7acb-4f0e-9838-5db6108e5cf5",
   "metadata": {},
   "outputs": [],
   "source": [
    "# Return the json file using get_api function\n",
    "coinspot_data =       get_api(coinspot_url)\n",
    "btcmarkets_data_btc = get_api(btcmarkets_url_btc)\n",
    "btcmarkets_data_eth = get_api(btcmarkets_url_eth)\n",
    "\n",
    "# alternative_data_btc = get_api(alternative_btc)\n",
    "# alternative_data_eth = get_api(alternative_eth)\n",
    "\n",
    "independent_data_btc = get_api(independent_btc)\n",
    "independent_data_eth = get_api(independent_eth)\n"
   ]
  },
  {
   "cell_type": "markdown",
   "id": "9e8bbbf3",
   "metadata": {},
   "source": []
  },
  {
   "cell_type": "markdown",
   "id": "81d71155-8828-4bc0-a622-7b4bf56b8b19",
   "metadata": {
    "tags": []
   },
   "source": [
    "### Convert to Dictionaries"
   ]
  },
  {
   "cell_type": "code",
   "execution_count": 10,
   "id": "9ff50d12-02e6-4903-9aa0-1b14836c2575",
   "metadata": {},
   "outputs": [],
   "source": [
    "# Run Coinspot Functions\n",
    "btc_coinspot = crypto_price_coinspot(crypto_ticker = \"btc\")\n",
    "eth_coinspot = crypto_price_coinspot(crypto_ticker = \"eth\")\n",
    "\n",
    "#Run btcmarkets functions\n",
    "btc_btcmarkets = crypto_price_btcmarkets(crypto_ticker = \"btc\",btcmarkets_api = btcmarkets_data_btc)\n",
    "eth_btcmarkets = crypto_price_btcmarkets(crypto_ticker = \"eth\",btcmarkets_api = btcmarkets_data_eth)\n",
    "\n",
    "# #Run alternative functions\n",
    "# btc_alternative = crypto_price_alternative(id_ = \"1\",url_ = alternative_btc)\n",
    "# eth_alternative = crypto_price_alternative(id_ = \"1027\",url_  = alternative_eth)\n",
    "\n",
    "#Run independent functions\n",
    "btc_independent = crypto_price_independent(independent_btc)\n",
    "eth_independent = crypto_price_independent(independent_eth)\n",
    "\n",
    "#Join Dictionaries\n",
    "btcmarkets_prices =  {\"btc\": btc_btcmarkets,\"eth\" :eth_btcmarkets}\n",
    "coinspot_prices =    {\"btc\": btc_coinspot,\"eth\" :eth_coinspot}\n",
    "# alternative_prices = {\"btc\": btc_alternative,\"eth\" :eth_alternative}\n",
    "independent_prices = {\"btc\": btc_independent,\"eth\" :eth_independent}"
   ]
  },
  {
   "cell_type": "markdown",
   "id": "0b228818-4d4f-4076-ae95-dd1234bb499b",
   "metadata": {
    "tags": []
   },
   "source": [
    "### Create DataFrame"
   ]
  },
  {
   "cell_type": "code",
   "execution_count": 11,
   "id": "88b212fd-cc89-4dfc-bc95-49e81b73cc18",
   "metadata": {},
   "outputs": [],
   "source": [
    "# Convert Dictionaries to Dataframe\n",
    "coinspot_df = pd.DataFrame.from_dict(coinspot_prices,orient = \"index\")\n",
    "btcmarkets_df = pd.DataFrame.from_dict(btcmarkets_prices,orient = \"index\")\n",
    "# alternative_df = pd.DataFrame.from_dict(alternative_prices,orient = \"index\")\n",
    "independent_df = pd.DataFrame.from_dict(independent_prices,orient = \"index\")\n"
   ]
  },
  {
   "cell_type": "code",
   "execution_count": null,
   "id": "4e8ef0a4",
   "metadata": {},
   "outputs": [],
   "source": []
  },
  {
   "cell_type": "code",
   "execution_count": 12,
   "id": "e997adca",
   "metadata": {},
   "outputs": [
    {
     "data": {
      "text/html": [
       "<div>\n",
       "<style scoped>\n",
       "    .dataframe tbody tr th:only-of-type {\n",
       "        vertical-align: middle;\n",
       "    }\n",
       "\n",
       "    .dataframe tbody tr th {\n",
       "        vertical-align: top;\n",
       "    }\n",
       "\n",
       "    .dataframe thead th {\n",
       "        text-align: right;\n",
       "    }\n",
       "</style>\n",
       "<table border=\"1\" class=\"dataframe\">\n",
       "  <thead>\n",
       "    <tr style=\"text-align: right;\">\n",
       "      <th></th>\n",
       "      <th>coinspot bid</th>\n",
       "      <th>coinspot ask</th>\n",
       "      <th>coinspot sell</th>\n",
       "      <th>btcmarkets bid</th>\n",
       "      <th>btcmarkets ask</th>\n",
       "      <th>btcmarkets sell</th>\n",
       "      <th>btcmarkets_vol</th>\n",
       "      <th>independent bid</th>\n",
       "      <th>independent ask</th>\n",
       "      <th>independent sell</th>\n",
       "    </tr>\n",
       "  </thead>\n",
       "  <tbody>\n",
       "    <tr>\n",
       "      <th>btc</th>\n",
       "      <td>32684.16000005</td>\n",
       "      <td>32915.6199994</td>\n",
       "      <td>32986.42</td>\n",
       "      <td>32795.87</td>\n",
       "      <td>32873.53</td>\n",
       "      <td>32848.3</td>\n",
       "      <td>66.94551726</td>\n",
       "      <td>32892.78</td>\n",
       "      <td>32831.72</td>\n",
       "      <td>32890.0</td>\n",
       "    </tr>\n",
       "    <tr>\n",
       "      <th>eth</th>\n",
       "      <td>2328</td>\n",
       "      <td>2330.8817555</td>\n",
       "      <td>2328</td>\n",
       "      <td>2328.91</td>\n",
       "      <td>2334.57</td>\n",
       "      <td>2330.46</td>\n",
       "      <td>2035.94281629</td>\n",
       "      <td>32892.78</td>\n",
       "      <td>32831.72</td>\n",
       "      <td>32890.0</td>\n",
       "    </tr>\n",
       "  </tbody>\n",
       "</table>\n",
       "</div>"
      ],
      "text/plain": [
       "       coinspot bid   coinspot ask coinspot sell btcmarkets bid  \\\n",
       "btc  32684.16000005  32915.6199994      32986.42       32795.87   \n",
       "eth            2328   2330.8817555          2328        2328.91   \n",
       "\n",
       "    btcmarkets ask btcmarkets sell btcmarkets_vol  independent bid  \\\n",
       "btc       32873.53         32848.3    66.94551726         32892.78   \n",
       "eth        2334.57         2330.46  2035.94281629         32892.78   \n",
       "\n",
       "     independent ask  independent sell  \n",
       "btc         32831.72           32890.0  \n",
       "eth         32831.72           32890.0  "
      ]
     },
     "execution_count": 12,
     "metadata": {},
     "output_type": "execute_result"
    }
   ],
   "source": [
    "# Join dataframes\n",
    "all_prices = pd.concat([coinspot_df,btcmarkets_df,independent_df], axis=\"columns\", join=\"outer\")\n",
    "\n",
    "#Show Data\n",
    "all_prices.head()"
   ]
  },
  {
   "cell_type": "markdown",
   "id": "0ce95b05-6baf-41b4-82d4-a761152e2e6d",
   "metadata": {},
   "source": [
    "### Convert to float and perform basic calculations"
   ]
  },
  {
   "cell_type": "code",
   "execution_count": 13,
   "id": "d82968c0-8ed7-4e70-bc0d-eca81941b2cd",
   "metadata": {
    "tags": []
   },
   "outputs": [
    {
     "data": {
      "text/html": [
       "<div>\n",
       "<style scoped>\n",
       "    .dataframe tbody tr th:only-of-type {\n",
       "        vertical-align: middle;\n",
       "    }\n",
       "\n",
       "    .dataframe tbody tr th {\n",
       "        vertical-align: top;\n",
       "    }\n",
       "\n",
       "    .dataframe thead th {\n",
       "        text-align: right;\n",
       "    }\n",
       "</style>\n",
       "<table border=\"1\" class=\"dataframe\">\n",
       "  <thead>\n",
       "    <tr style=\"text-align: right;\">\n",
       "      <th></th>\n",
       "      <th>coinspot bid</th>\n",
       "      <th>coinspot ask</th>\n",
       "      <th>coinspot sell</th>\n",
       "      <th>btcmarkets bid</th>\n",
       "      <th>btcmarkets ask</th>\n",
       "      <th>btcmarkets sell</th>\n",
       "      <th>btcmarkets_vol</th>\n",
       "      <th>independent bid</th>\n",
       "      <th>independent ask</th>\n",
       "      <th>independent sell</th>\n",
       "      <th>bid_diff</th>\n",
       "      <th>ask_diff</th>\n",
       "      <th>sell_diff</th>\n",
       "    </tr>\n",
       "  </thead>\n",
       "  <tbody>\n",
       "    <tr>\n",
       "      <th>btc</th>\n",
       "      <td>32684.16</td>\n",
       "      <td>32915.619999</td>\n",
       "      <td>32986.42</td>\n",
       "      <td>32795.87</td>\n",
       "      <td>32873.53</td>\n",
       "      <td>32848.3</td>\n",
       "      <td>66.945517</td>\n",
       "      <td>32892.78</td>\n",
       "      <td>32831.72</td>\n",
       "      <td>32890.0</td>\n",
       "      <td>-111.71</td>\n",
       "      <td>42.089999</td>\n",
       "      <td>138.12</td>\n",
       "    </tr>\n",
       "  </tbody>\n",
       "</table>\n",
       "</div>"
      ],
      "text/plain": [
       "     coinspot bid  coinspot ask  coinspot sell  btcmarkets bid  \\\n",
       "btc      32684.16  32915.619999       32986.42        32795.87   \n",
       "\n",
       "     btcmarkets ask  btcmarkets sell  btcmarkets_vol  independent bid  \\\n",
       "btc        32873.53          32848.3       66.945517         32892.78   \n",
       "\n",
       "     independent ask  independent sell  bid_diff   ask_diff  sell_diff  \n",
       "btc         32831.72           32890.0   -111.71  42.089999     138.12  "
      ]
     },
     "execution_count": 13,
     "metadata": {},
     "output_type": "execute_result"
    }
   ],
   "source": [
    "#Show Data\n",
    "all_prices = all_prices.astype(float).copy()\n",
    "\n",
    "all_prices[\"bid_diff\"] = all_prices[\"coinspot bid\"] - all_prices[\"btcmarkets bid\"]\n",
    "all_prices[\"ask_diff\"] = all_prices[\"coinspot ask\"] - all_prices[\"btcmarkets ask\"]\n",
    "all_prices[\"sell_diff\"] = all_prices[\"coinspot sell\"] - all_prices[\"btcmarkets sell\"]\n",
    "\n",
    "all_prices.head(1)"
   ]
  },
  {
   "cell_type": "markdown",
   "id": "5964768c-54d6-4f67-9458-6789d0f9afc8",
   "metadata": {},
   "source": [
    "### Write to CSV function ?"
   ]
  },
  {
   "cell_type": "code",
   "execution_count": 14,
   "id": "8d363b26-1ac0-4e79-858e-f3827a5e6452",
   "metadata": {},
   "outputs": [],
   "source": [
    "# # open the file in the write mode\n",
    "# f = open('prices.csv', 'w')\n",
    "\n",
    "# # create the csv writer\n",
    "# writer = csv.writer(f)\n",
    "\n",
    "# # write a row to the csv file\n",
    "# writer.writerow(all_prices(index = 0,column = \"btc\"))\n",
    "\n",
    "# # close the file\n",
    "# f.close()"
   ]
  },
  {
   "cell_type": "code",
   "execution_count": 15,
   "id": "6060eb57",
   "metadata": {},
   "outputs": [],
   "source": [
    "all_prices.to_csv(\"prices.csv\",index=False)\n",
    "\n",
    "# Display summary statistics for 1 year of Shopify stock data\n",
    "# all_prices.describe()"
   ]
  },
  {
   "cell_type": "code",
   "execution_count": null,
   "id": "89d99ac5",
   "metadata": {},
   "outputs": [],
   "source": []
  },
  {
   "cell_type": "code",
   "execution_count": null,
   "id": "5c00799d-29a2-4102-be4b-927b694d7fdb",
   "metadata": {},
   "outputs": [],
   "source": []
  }
 ],
 "metadata": {
  "kernelspec": {
   "display_name": "fintech",
   "language": "python",
   "name": "fintech"
  },
  "language_info": {
   "codemirror_mode": {
    "name": "ipython",
    "version": 3
   },
   "file_extension": ".py",
   "mimetype": "text/x-python",
   "name": "python",
   "nbconvert_exporter": "python",
   "pygments_lexer": "ipython3",
   "version": "3.7.13"
  },
  "vscode": {
   "interpreter": {
    "hash": "ab0c4e73bab7818f14ad10b08b056e87310a7e4378f8ca41fc21477ec92f4903"
   }
  }
 },
 "nbformat": 4,
 "nbformat_minor": 5
}
